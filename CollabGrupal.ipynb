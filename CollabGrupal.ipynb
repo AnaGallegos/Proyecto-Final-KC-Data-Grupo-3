{
  "cells": [
    {
      "cell_type": "code",
      "execution_count": 83,
      "metadata": {
        "id": "LjDQtjEkBhnu"
      },
      "outputs": [],
      "source": [
        "#Importamos librerías\n",
        "import numpy as np # data arrays\n",
        "import pandas as pd # data structure and data analysis\n",
        "import matplotlib as plt # data visualization\n",
        "import datetime as dt # date time"
      ]
    },
    {
      "cell_type": "code",
      "execution_count": 84,
      "metadata": {
        "id": "-2wiXkclB-Lj"
      },
      "outputs": [],
      "source": [
        "#Abrimos archivo \n",
        "df_airbnb = pd.read_csv(\"airbnb-listings.csv\", sep=\";\")"
      ]
    },
    {
      "cell_type": "code",
      "execution_count": 85,
      "metadata": {
        "colab": {
          "base_uri": "https://localhost:8080/"
        },
        "id": "9tZelxOwlwVx",
        "outputId": "bcd4ad76-b8ad-481e-f27b-2d01d0b52262"
      },
      "outputs": [
        {
          "name": "stdout",
          "output_type": "stream",
          "text": [
            "Columnas :  89\n",
            "Filas    :  14780\n"
          ]
        }
      ],
      "source": [
        "#Contamos cuántas columnas y filas tiene el dataset\n",
        "print('Columnas : ', len(df_airbnb.columns))\n",
        "print('Filas    : ', len(df_airbnb.index))"
      ]
    },
    {
      "cell_type": "code",
      "execution_count": 86,
      "metadata": {
        "colab": {
          "base_uri": "https://localhost:8080/"
        },
        "id": "NhEXePy6B_c-",
        "outputId": "caacc03d-7ec9-4fba-bdfb-06bc649691ad"
      },
      "outputs": [
        {
          "name": "stdout",
          "output_type": "stream",
          "text": [
            "['ID', 'Listing Url', 'Scrape ID', 'Last Scraped', 'Name', 'Summary', 'Space', 'Description', 'Experiences Offered', 'Neighborhood Overview', 'Notes', 'Transit', 'Access', 'Interaction', 'House Rules', 'Thumbnail Url', 'Medium Url', 'Picture Url', 'XL Picture Url', 'Host ID', 'Host URL', 'Host Name', 'Host Since', 'Host Location', 'Host About', 'Host Response Time', 'Host Response Rate', 'Host Acceptance Rate', 'Host Thumbnail Url', 'Host Picture Url', 'Host Neighbourhood', 'Host Listings Count', 'Host Total Listings Count', 'Host Verifications', 'Street', 'Neighbourhood', 'Neighbourhood Cleansed', 'Neighbourhood Group Cleansed', 'City', 'State', 'Zipcode', 'Market', 'Smart Location', 'Country Code', 'Country', 'Latitude', 'Longitude', 'Property Type', 'Room Type', 'Accommodates', 'Bathrooms', 'Bedrooms', 'Beds', 'Bed Type', 'Amenities', 'Square Feet', 'Price', 'Weekly Price', 'Monthly Price', 'Security Deposit', 'Cleaning Fee', 'Guests Included', 'Extra People', 'Minimum Nights', 'Maximum Nights', 'Calendar Updated', 'Has Availability', 'Availability 30', 'Availability 60', 'Availability 90', 'Availability 365', 'Calendar last Scraped', 'Number of Reviews', 'First Review', 'Last Review', 'Review Scores Rating', 'Review Scores Accuracy', 'Review Scores Cleanliness', 'Review Scores Checkin', 'Review Scores Communication', 'Review Scores Location', 'Review Scores Value', 'License', 'Jurisdiction Names', 'Cancellation Policy', 'Calculated host listings count', 'Reviews per Month', 'Geolocation', 'Features']\n"
          ]
        }
      ],
      "source": [
        "#Imprimimos todas las columnas en formato lista\n",
        "print(df_airbnb.columns.tolist())"
      ]
    },
    {
      "cell_type": "code",
      "execution_count": 87,
      "metadata": {
        "colab": {
          "base_uri": "https://localhost:8080/"
        },
        "id": "jKreC7S3DwnH",
        "outputId": "ca1c3c68-c6dd-4a2b-c7bd-2364c79ca92a"
      },
      "outputs": [
        {
          "data": {
            "text/plain": [
              "ID                                   0\n",
              "Listing Url                          0\n",
              "Scrape ID                            0\n",
              "Last Scraped                         0\n",
              "Name                                 1\n",
              "                                  ... \n",
              "Cancellation Policy                  0\n",
              "Calculated host listings count       4\n",
              "Reviews per Month                 3162\n",
              "Geolocation                          0\n",
              "Features                             1\n",
              "Length: 89, dtype: int64"
            ]
          },
          "execution_count": 87,
          "metadata": {},
          "output_type": "execute_result"
        }
      ],
      "source": [
        "#Sumamos los valores nulos que tienen cada una de las columnas\n",
        "missing_values_count = df_airbnb.isnull().sum()\n",
        "missing_values_count"
      ]
    },
    {
      "cell_type": "code",
      "execution_count": 88,
      "metadata": {
        "colab": {
          "base_uri": "https://localhost:8080/"
        },
        "id": "K4UT3930EwKT",
        "outputId": "ecfc9854-0592-4ba5-8273-f8aaf5310c1a"
      },
      "outputs": [
        {
          "data": {
            "text/plain": [
              "Has Availability        14768\n",
              "Host Acceptance Rate    14741\n",
              "Jurisdiction Names      14553\n",
              "License                 14431\n",
              "Square Feet             14182\n",
              "                        ...  \n",
              "Minimum Nights              0\n",
              "Extra People                0\n",
              "Guests Included             0\n",
              "Room Type                   0\n",
              "ID                          0\n",
              "Length: 89, dtype: int64"
            ]
          },
          "execution_count": 88,
          "metadata": {},
          "output_type": "execute_result"
        }
      ],
      "source": [
        "#Ordenamos de mayor a menor las columnas con más valores nulos\n",
        "missing_values_count.sort_values(ascending=False)"
      ]
    },
    {
      "cell_type": "code",
      "execution_count": 89,
      "metadata": {
        "colab": {
          "base_uri": "https://localhost:8080/"
        },
        "id": "E9CDvQ3YGOba",
        "outputId": "d01ebb5d-f57f-4058-847d-8c9466389a8a"
      },
      "outputs": [
        {
          "data": {
            "text/plain": [
              "ID                                False\n",
              "Listing Url                       False\n",
              "Scrape ID                         False\n",
              "Last Scraped                      False\n",
              "Name                              False\n",
              "                                  ...  \n",
              "Cancellation Policy               False\n",
              "Calculated host listings count    False\n",
              "Reviews per Month                  True\n",
              "Geolocation                       False\n",
              "Features                          False\n",
              "Length: 89, dtype: bool"
            ]
          },
          "execution_count": 89,
          "metadata": {},
          "output_type": "execute_result"
        }
      ],
      "source": [
        "#Devuelve True si la suma de valores nulos es mayor a 1000\n",
        "missing_values_count>1000"
      ]
    },
    {
      "cell_type": "code",
      "execution_count": 90,
      "metadata": {
        "colab": {
          "base_uri": "https://localhost:8080/"
        },
        "id": "DxHoA5mZEvsH",
        "outputId": "b99d19c2-d607-4b9f-ea2c-67143153b69f"
      },
      "outputs": [
        {
          "name": "stdout",
          "output_type": "stream",
          "text": [
            "Has Availability                14768\n",
            "Host Acceptance Rate            14741\n",
            "Jurisdiction Names              14553\n",
            "License                         14431\n",
            "Square Feet                     14182\n",
            "Monthly Price                   11219\n",
            "Weekly Price                    11190\n",
            "Notes                            9136\n",
            "Security Deposit                 8524\n",
            "Interaction                      6552\n",
            "Access                           6462\n",
            "Cleaning Fee                     6093\n",
            "Transit                          5714\n",
            "Neighborhood Overview            5646\n",
            "Host About                       5241\n",
            "Neighbourhood                    5229\n",
            "House Rules                      5161\n",
            "Space                            3892\n",
            "Host Neighbourhood               3876\n",
            "Review Scores Value              3341\n",
            "Review Scores Location           3340\n",
            "Review Scores Checkin            3337\n",
            "Review Scores Accuracy           3326\n",
            "Review Scores Cleanliness        3320\n",
            "Review Scores Communication      3320\n",
            "Review Scores Rating             3304\n",
            "Last Review                      3163\n",
            "Reviews per Month                3162\n",
            "First Review                     3162\n",
            "XL Picture Url                   2820\n",
            "Medium Url                       2820\n",
            "Thumbnail Url                    2820\n",
            "Host Response Time               1899\n",
            "Host Response Rate               1899\n",
            "Neighbourhood Group Cleansed     1020\n",
            "dtype: int64\n"
          ]
        }
      ],
      "source": [
        "#Obtenemos las columnas cuya suma de valores nulos es mayor a 1000\n",
        "nulldata = df_airbnb.isnull().sum()\n",
        "print(nulldata[nulldata > 1000].sort_values(ascending=False))"
      ]
    },
    {
      "cell_type": "code",
      "execution_count": 91,
      "metadata": {
        "colab": {
          "base_uri": "https://localhost:8080/"
        },
        "id": "DoqFWq0qnk6f",
        "outputId": "bb8a9d53-6374-4cfc-bf2b-ea6122e6e7b2"
      },
      "outputs": [
        {
          "name": "stdout",
          "output_type": "stream",
          "text": [
            "['United Kingdom' 'Spain' 'United States' 'Canada' 'Switzerland'\n",
            " 'Hong Kong' 'Cuba' 'Germany' 'Belgium' 'Netherlands' 'Italy' 'Australia'\n",
            " 'Austria' 'France' 'Denmark' 'Ireland' 'Greece' nan]\n",
            "['London' 'Madrid' 'Denver' 'Palma' 'Palma de Mallorca' 'Selva'\n",
            " 'Balearic Islands' 'Sant Joan' 'Montréal' 'Genève' 'Tsim Sha Tsui'\n",
            " 'Los Angeles' 'Cala Pi' 'Sa Pobla' 'Muro' 'Alcúdia' 'Illetes' '马德里'\n",
            " 'La Habana' 'Madrid, Comunidad de Madrid, ES' 'Berlin' 'Schaerbeek'\n",
            " 'Amsterdam' 'Barcelona' 'Austin' 'Antwerpen' 'Chicago' 'Roma'\n",
            " 'Bondi Beach' 'Seattle' 'Woolloomooloo' 'Vienna' 'North Sydney' 'Paris'\n",
            " 'Frederiksberg' 'Dublin' 'Edimburgo' 'Bruxelles' 'Copenhagen' 'Sutton'\n",
            " 'Santa Maria del Camí' 'Pollença' 'Nashville' 'Bunyola'\n",
            " 'Pozuelo de Alarcón' 'Provensals' 'Deià' 'Costitx' 'Campos'\n",
            " 'Mile End / Bow' 'Peguera, Calvià' 'Torrenova' \"Port d'Andratx\"\n",
            " 'Llucmajor' 'Sant Llorenç des Cardassar' 'Puerto ALCUDIA' 'Sóller'\n",
            " 'Valldemossa' 'Pollensa' 'Caimari' 'Inca' '馬德里' 'Montreal' 'Brooklyn'\n",
            " 'Washington' 'Venezia' 'Lido' 'Hospitalet de Llobregat' 'Hong Kong'\n",
            " 'København' 'Ixelles' 'Andratx' 'Binissalem' 'Mancor de la Vall'\n",
            " 'Felanitx' 'Santa Margalida' 'Saint-Josse-ten-Noode'\n",
            " 'Madrid, Vallecas (Fontarrón)' 'Campanet' 'Sol de Mallorca' 'New Orleans'\n",
            " 'Greater London' 'Londres' 'Sa Colònia' 'Son Veri Nou , Llucmajor'\n",
            " 'Delicias' 'Wien' 'St Peters' 'Surry Hills' 'Toronto' 'Queens' 'New York'\n",
            " 'Los Angeles County' 'Beverly Hills' 'Manacor' 'Pozuelo' 'Can Pastilla'\n",
            " 'Alaró' 'Melbourne' 'Venice' 'Bondi' 'Porreres' 'Costa dels Pins'\n",
            " 'Madrid, Comunidad de Madrid, ESPANA' 'las matas  madrid' 'Illes Balears'\n",
            " 'Calvià' 'madrid' 'La Puebla' 'Llubí' 'Templeogue' 'Ballsbridge'\n",
            " 'Topanga' 'Peguera' 'Manchester' 'Delicias-Madrid' 'Onil' 'Cala Agulla'\n",
            " 'Athina' 'Edinburgh' 'Santa Monica' 'San Diego' 'Queenscliff'\n",
            " 'Cala Ferrera' 'Santanyí' 'Valderrodrigo' 'Algaida' nan 'El Toro' 'Petra'\n",
            " 'Búger' 'Pina' 'Chiva' 'Son Servera' 'Sa Coma' 'Northcote' 'Potts Point'\n",
            " 'Lewisham' 'Maioris Decima' 'Puerto Pollensa (Palma de Mallorca)'\n",
            " 'Lloret de Vistalegre' 'Paddington' 'Boston' 'Frederiksberg C' 'Bronx'\n",
            " 'Berowra Waters' 'Marrickville' 'Rome' 'París' 'Playas de Muro'\n",
            " 'Boadilla del Monte' 'Binissalem-Mallorca DO' 'Pina, Mallorca'\n",
            " 'Etterbeek' 'Richmond' 'Sineu' 'Cala Santanyí' 'Windsor' 'Port de Soller'\n",
            " 'South Yarra' 'Rotes Velles' 'Son Moll' 'Brussel' 'Aravaca'\n",
            " 'San Fernando de Henares' 'Cala Murada' 'Betlem' 'Son Vida' 'Malibu'\n",
            " 'Kimmage' 'Clongriffin' 'Ginebra' 'Madid' 'Porto Cristo' 'Santa Ponsa'\n",
            " 'Comunidad de Madrid' 'San Lázaro' 'Málaga' 'La Elipa' 'Can Picafort'\n",
            " 'Manly' 'San Francisco' 'Coogee' 'Oakland' 'Centro, Madrid' 'MADRID'\n",
            " 'Alcudia' 'Forest' 'Sint-Gillis' 'Darlinghurst' 'Cologny' 'Deyá'\n",
            " 'Muro (Mallorca)' 'Sencelles' 'Saint-Gilles' 'Madri'\n",
            " 'Colònia de Sant Jordi' 'Chelsea, London' 'Albert Park' 'Font de Sa Cala'\n",
            " 'Motilla del Palancar' 'Long Beach' 'Mal Pas-Bon Aire' 'Lloseta' 'Ariany'\n",
            " 'Port de Sóller' 'Sa Garriga' 'Urbanització Montferrutx' 'Brunswick'\n",
            " 'Vancouver' 'Bondi Junction' 'Mascot' 'Enmore' 'Rosebery' 'San Fernando'\n",
            " 'Aravaca (Madrid)' 'Cala Ratjada' 'Cala Magrana'\n",
            " 'Cala Anguila-Cala Mendia' 'Biniamar' 'Vilafranca de Bonany'\n",
            " 'West Hollywood' 'Athens' 'Magaluf' 'Chueca, Madrid' 'Malaga'\n",
            " 'Forest Lodge' 'Brent' 'Chueca' 'Footscray' 'Westmount' 'Dorroughby'\n",
            " 'Pasadena' 'Llucalcari' 'Ses Salines' 'Colonia de Sant Pere'\n",
            " 'villa verde bajo' 'Centro' 'North Bondi' 'Portals Nous'\n",
            " 'Port de Pollença' 'Salerno' 'Berlín' 'Newtown' 'Vallgornera' 'Ventas'\n",
            " 'Colonia Sant Pere']\n"
          ]
        }
      ],
      "source": [
        "#A pesar de que el dataset es de Madrid podemos observar como hay otros paises y ciudades \n",
        "print(pd.unique(df_airbnb[\"Country\"]))\n",
        "\n",
        "print(pd.unique(df_airbnb[\"City\"]))"
      ]
    },
    {
      "cell_type": "code",
      "execution_count": 92,
      "metadata": {
        "colab": {
          "base_uri": "https://localhost:8080/"
        },
        "id": "9YlcD8ebnzAf",
        "outputId": "d570a965-9d03-4ded-a310-99861cc8a0f8"
      },
      "outputs": [
        {
          "name": "stdout",
          "output_type": "stream",
          "text": [
            "['Spain']\n",
            "['Madrid']\n"
          ]
        }
      ],
      "source": [
        "#Filtramos el dataset para quedarnos solamente con aquellas filas donde City sea Madrid y Country Spain\n",
        "df_airbnb = df_airbnb[(df_airbnb['City'] == \"Madrid\") & (df_airbnb['Country'] == 'Spain')]\n",
        "\n",
        "print(pd.unique(df_airbnb[\"Country\"]))\n",
        "print(pd.unique(df_airbnb[\"City\"]))\n"
      ]
    },
    {
      "cell_type": "code",
      "execution_count": 93,
      "metadata": {
        "id": "xI-EXsvRoqmZ"
      },
      "outputs": [],
      "source": [
        "#Creamos un nuevo df donde seleccionamos las columnas cuyos valores sean compatibles con lo que queremos estudiar\n",
        "df = df_airbnb[['ID','Host ID', 'Host Since', 'Host Name', 'Street', 'Neighbourhood Cleansed', 'City', 'State', 'Zipcode', \n",
        "                'Smart Location', 'Country Code', 'Country', 'Latitude', 'Longitude', 'Property Type', 'Room Type', 'Bathrooms', 'Bedrooms', 'Beds', 'Bed Type',\n",
        "                'Price','Number of Reviews', 'Cancellation Policy', 'Geolocation']]\n"
      ]
    },
    {
      "cell_type": "code",
      "execution_count": 94,
      "metadata": {
        "colab": {
          "base_uri": "https://localhost:8080/"
        },
        "id": "rqhtek5a156Y",
        "outputId": "9c13e928-70a2-4eaa-a51f-51db964249c8"
      },
      "outputs": [
        {
          "name": "stdout",
          "output_type": "stream",
          "text": [
            "Columnas :  24\n",
            "Filas    :  13207\n"
          ]
        }
      ],
      "source": [
        "#Contamos nuevamente cuántas columnas y filas tiene el nuevo df\n",
        "print('Columnas : ', len(df.columns))\n",
        "print('Filas    : ', len(df.index))"
      ]
    },
    {
      "cell_type": "code",
      "execution_count": 95,
      "metadata": {
        "colab": {
          "base_uri": "https://localhost:8080/"
        },
        "id": "7elNsQh1tVuU",
        "outputId": "310de25c-a719-4157-f173-e85e26d08814"
      },
      "outputs": [
        {
          "data": {
            "text/plain": [
              "array(['Community of Madrid', 'Comunidad de Madrid', 'Madrid', nan,\n",
              "       'Communauté de Madrid', 'Spain', 'MADRID', 'España',\n",
              "       'Autonome Gemeinschaft Madrid', 'Madrid capital', 'madrid', '28',\n",
              "       'Madrid \\r\\nMadrid', 'Espańa', 'Usera', 'España,Madrid'],\n",
              "      dtype=object)"
            ]
          },
          "execution_count": 95,
          "metadata": {},
          "output_type": "execute_result"
        }
      ],
      "source": [
        "#Observamos que en State hay muchos nombres diferentes para la Comunidad de Madrid\n",
        "pd.unique(df[\"State\"])\n"
      ]
    },
    {
      "cell_type": "code",
      "execution_count": 96,
      "metadata": {
        "colab": {
          "base_uri": "https://localhost:8080/"
        },
        "id": "9Sstms3cuaZc",
        "outputId": "fffc2ee0-4f13-4d98-9329-744acdad1dbb"
      },
      "outputs": [
        {
          "name": "stderr",
          "output_type": "stream",
          "text": [
            "/var/folders/6k/bj8zqq411cq2z4x6lypm4m5r0000gn/T/ipykernel_47626/2252847293.py:2: SettingWithCopyWarning: \n",
            "A value is trying to be set on a copy of a slice from a DataFrame.\n",
            "Try using .loc[row_indexer,col_indexer] = value instead\n",
            "\n",
            "See the caveats in the documentation: https://pandas.pydata.org/pandas-docs/stable/user_guide/indexing.html#returning-a-view-versus-a-copy\n",
            "  df['State']='Comunidad de Madrid'\n"
          ]
        }
      ],
      "source": [
        "#Cambiamos todos los valores de la columna State para que sean todos Comunidad de Madrid\n",
        "df['State']='Comunidad de Madrid'\n"
      ]
    },
    {
      "cell_type": "code",
      "execution_count": 97,
      "metadata": {
        "colab": {
          "base_uri": "https://localhost:8080/"
        },
        "id": "MnMMRb7buzM5",
        "outputId": "934d005c-0b43-4356-8ad9-f66a487e9dd0"
      },
      "outputs": [
        {
          "data": {
            "text/plain": [
              "array(['Comunidad de Madrid'], dtype=object)"
            ]
          },
          "execution_count": 97,
          "metadata": {},
          "output_type": "execute_result"
        }
      ],
      "source": [
        "pd.unique(df[\"State\"])"
      ]
    },
    {
      "cell_type": "markdown",
      "metadata": {
        "id": "wT21IG8XxSNu"
      },
      "source": [
        "Revisión de columnas"
      ]
    },
    {
      "cell_type": "code",
      "execution_count": 98,
      "metadata": {
        "colab": {
          "base_uri": "https://localhost:8080/"
        },
        "id": "0FexkzI-dE2f",
        "outputId": "32958273-7eb5-4f81-c442-81d0672aaacc"
      },
      "outputs": [
        {
          "data": {
            "text/plain": [
              "ID                          0\n",
              "Host ID                     0\n",
              "Host Since                  3\n",
              "Host Name                   3\n",
              "Street                      0\n",
              "Neighbourhood Cleansed      0\n",
              "City                        0\n",
              "State                       0\n",
              "Zipcode                   439\n",
              "Smart Location              0\n",
              "Country Code                0\n",
              "Country                     0\n",
              "Latitude                    0\n",
              "Longitude                   0\n",
              "Property Type               0\n",
              "Room Type                   0\n",
              "Bathrooms                  49\n",
              "Bedrooms                   23\n",
              "Beds                       49\n",
              "Bed Type                    0\n",
              "Price                       9\n",
              "Number of Reviews           0\n",
              "Cancellation Policy         0\n",
              "Geolocation                 0\n",
              "dtype: int64"
            ]
          },
          "execution_count": 98,
          "metadata": {},
          "output_type": "execute_result"
        }
      ],
      "source": [
        "missing_values_count_2 = df.isnull().sum()\n",
        "missing_values_count_2"
      ]
    },
    {
      "cell_type": "code",
      "execution_count": 99,
      "metadata": {
        "id": "1oA0aQ9ObyQA"
      },
      "outputs": [],
      "source": [
        "#Creamos nuevo dataframe con los valores NaN eliminados\n",
        "airbnb = df.dropna()\n"
      ]
    },
    {
      "cell_type": "code",
      "execution_count": 100,
      "metadata": {
        "colab": {
          "base_uri": "https://localhost:8080/"
        },
        "id": "FTMVUY5PbywI",
        "outputId": "9afdfc84-8434-4c8d-fb71-09bdbed5cd4d"
      },
      "outputs": [
        {
          "name": "stdout",
          "output_type": "stream",
          "text": [
            "Columnas :  24\n",
            "Filas    :  12685\n"
          ]
        }
      ],
      "source": [
        "#Calculamos columnas y filas\n",
        "print('Columnas : ', len(airbnb.columns))\n",
        "print('Filas    : ', len(airbnb.index))"
      ]
    },
    {
      "cell_type": "code",
      "execution_count": 101,
      "metadata": {
        "colab": {
          "base_uri": "https://localhost:8080/"
        },
        "id": "3kngEIU4cvBT",
        "outputId": "777b7040-ec50-48ed-ae18-7b423b60f2eb"
      },
      "outputs": [
        {
          "data": {
            "text/plain": [
              "ID                        0\n",
              "Host ID                   0\n",
              "Host Since                0\n",
              "Host Name                 0\n",
              "Street                    0\n",
              "Neighbourhood Cleansed    0\n",
              "City                      0\n",
              "State                     0\n",
              "Zipcode                   0\n",
              "Smart Location            0\n",
              "Country Code              0\n",
              "Country                   0\n",
              "Latitude                  0\n",
              "Longitude                 0\n",
              "Property Type             0\n",
              "Room Type                 0\n",
              "Bathrooms                 0\n",
              "Bedrooms                  0\n",
              "Beds                      0\n",
              "Bed Type                  0\n",
              "Price                     0\n",
              "Number of Reviews         0\n",
              "Cancellation Policy       0\n",
              "Geolocation               0\n",
              "dtype: int64"
            ]
          },
          "execution_count": 101,
          "metadata": {},
          "output_type": "execute_result"
        }
      ],
      "source": [
        "#Verificamos que la suma de nulls en todas las columnas sea 0\n",
        "missing_values = airbnb.isnull().sum()\n",
        "missing_values"
      ]
    },
    {
      "cell_type": "code",
      "execution_count": 102,
      "metadata": {},
      "outputs": [
        {
          "name": "stdout",
          "output_type": "stream",
          "text": [
            "<class 'pandas.core.frame.DataFrame'>\n",
            "Int64Index: 12685 entries, 3 to 14759\n",
            "Data columns (total 24 columns):\n",
            " #   Column                  Non-Null Count  Dtype  \n",
            "---  ------                  --------------  -----  \n",
            " 0   ID                      12685 non-null  int64  \n",
            " 1   Host ID                 12685 non-null  int64  \n",
            " 2   Host Since              12685 non-null  object \n",
            " 3   Host Name               12685 non-null  object \n",
            " 4   Street                  12685 non-null  object \n",
            " 5   Neighbourhood Cleansed  12685 non-null  object \n",
            " 6   City                    12685 non-null  object \n",
            " 7   State                   12685 non-null  object \n",
            " 8   Zipcode                 12685 non-null  object \n",
            " 9   Smart Location          12685 non-null  object \n",
            " 10  Country Code            12685 non-null  object \n",
            " 11  Country                 12685 non-null  object \n",
            " 12  Latitude                12685 non-null  float64\n",
            " 13  Longitude               12685 non-null  float64\n",
            " 14  Property Type           12685 non-null  object \n",
            " 15  Room Type               12685 non-null  object \n",
            " 16  Bathrooms               12685 non-null  float64\n",
            " 17  Bedrooms                12685 non-null  float64\n",
            " 18  Beds                    12685 non-null  float64\n",
            " 19  Bed Type                12685 non-null  object \n",
            " 20  Price                   12685 non-null  float64\n",
            " 21  Number of Reviews       12685 non-null  int64  \n",
            " 22  Cancellation Policy     12685 non-null  object \n",
            " 23  Geolocation             12685 non-null  object \n",
            "dtypes: float64(6), int64(3), object(15)\n",
            "memory usage: 2.4+ MB\n"
          ]
        }
      ],
      "source": [
        "airbnb.info()"
      ]
    },
    {
      "cell_type": "code",
      "execution_count": 103,
      "metadata": {},
      "outputs": [
        {
          "data": {
            "text/plain": [
              "3        2014-02-03\n",
              "4        2011-07-12\n",
              "7        2013-10-31\n",
              "8        2014-05-08\n",
              "9        2014-05-08\n",
              "            ...    \n",
              "14755    2015-06-24\n",
              "14756    2016-03-01\n",
              "14757    2012-09-11\n",
              "14758    2012-09-14\n",
              "14759    2013-01-03\n",
              "Name: Host Since, Length: 12685, dtype: object"
            ]
          },
          "execution_count": 103,
          "metadata": {},
          "output_type": "execute_result"
        }
      ],
      "source": [
        "airbnb[\"Host Since\"]"
      ]
    },
    {
      "cell_type": "code",
      "execution_count": 104,
      "metadata": {},
      "outputs": [
        {
          "name": "stderr",
          "output_type": "stream",
          "text": [
            "/var/folders/6k/bj8zqq411cq2z4x6lypm4m5r0000gn/T/ipykernel_47626/493602509.py:2: SettingWithCopyWarning: \n",
            "A value is trying to be set on a copy of a slice from a DataFrame.\n",
            "Try using .loc[row_indexer,col_indexer] = value instead\n",
            "\n",
            "See the caveats in the documentation: https://pandas.pydata.org/pandas-docs/stable/user_guide/indexing.html#returning-a-view-versus-a-copy\n",
            "  airbnb[\"Host Since\"] = pd.to_datetime(airbnb[\"Host Since\"], format=\"%Y/%m/%d\")\n"
          ]
        },
        {
          "data": {
            "text/plain": [
              "3   2014-02-03\n",
              "4   2011-07-12\n",
              "7   2013-10-31\n",
              "8   2014-05-08\n",
              "9   2014-05-08\n",
              "Name: Host Since, dtype: datetime64[ns]"
            ]
          },
          "execution_count": 104,
          "metadata": {},
          "output_type": "execute_result"
        }
      ],
      "source": [
        "#Convertimos Host Since a dtype datatime64  \n",
        "airbnb[\"Host Since\"] = pd.to_datetime(airbnb[\"Host Since\"], format=\"%Y/%m/%d\")\n",
        "\n",
        "# print the first 5 rows of \"ActivityDate\" to confirm\n",
        "airbnb[\"Host Since\"].head()"
      ]
    },
    {
      "cell_type": "code",
      "execution_count": 105,
      "metadata": {},
      "outputs": [
        {
          "data": {
            "text/plain": [
              "array(['28005', '28013', '28012', '28014', '28004', '28015', '28008',\n",
              "       '28045', '28017', '28027', '28043', '28021', '28003', '28010',\n",
              "       '28002', '28016', '28036', '28039', '28020', '28046', '28029',\n",
              "       '28028', '28006', '28001', '28009', '28007', '28035', '28011',\n",
              "       '28047', '28024', '28044', '28019', '28025', '28038', '28053',\n",
              "       '28026', '28018', '28030', '28031', '28051', '28052', '28032',\n",
              "       '28037', '28022', '28042', '28054', '28041', '28058', '28034',\n",
              "       '28050', '28049', '28033', '28055', '27013', '28023', '28850',\n",
              "       '28040', '20126', '28056', '28060', '2015', '27004', '28', '2805',\n",
              "       '25008', '20013', '28051\\r\\n28051', '280013', '28094',\n",
              "       '28002\\r\\n28002', '2804', '2815', 'Madrid 28004', '28105', '28048'],\n",
              "      dtype=object)"
            ]
          },
          "execution_count": 105,
          "metadata": {},
          "output_type": "execute_result"
        }
      ],
      "source": [
        "#Hay Zipcodes con numeros faltantes, de más o mal escritos\n",
        "pd.unique(airbnb['Zipcode'])\n"
      ]
    },
    {
      "cell_type": "code",
      "execution_count": 106,
      "metadata": {},
      "outputs": [
        {
          "name": "stderr",
          "output_type": "stream",
          "text": [
            "/var/folders/6k/bj8zqq411cq2z4x6lypm4m5r0000gn/T/ipykernel_47626/3229879378.py:1: SettingWithCopyWarning: \n",
            "A value is trying to be set on a copy of a slice from a DataFrame\n",
            "\n",
            "See the caveats in the documentation: https://pandas.pydata.org/pandas-docs/stable/user_guide/indexing.html#returning-a-view-versus-a-copy\n",
            "  airbnb.drop(airbnb[airbnb['Zipcode']=='28'].index, inplace = True)\n"
          ]
        }
      ],
      "source": [
        "airbnb.drop(airbnb[airbnb['Zipcode']=='28'].index, inplace = True)"
      ]
    },
    {
      "cell_type": "code",
      "execution_count": 107,
      "metadata": {},
      "outputs": [
        {
          "data": {
            "text/plain": [
              "array(['28005', '28013', '28012', '28014', '28004', '28015', '28008',\n",
              "       '28045', '28017', '28027', '28043', '28021', '28003', '28010',\n",
              "       '28002', '28016', '28036', '28039', '28020', '28046', '28029',\n",
              "       '28028', '28006', '28001', '28009', '28007', '28035', '28011',\n",
              "       '28047', '28024', '28044', '28019', '28025', '28038', '28053',\n",
              "       '28026', '28018', '28030', '28031', '28051', '28052', '28032',\n",
              "       '28037', '28022', '28042', '28054', '28041', '28058', '28034',\n",
              "       '28050', '28049', '28033', '28055', '27013', '28023', '28850',\n",
              "       '28040', '20126', '28056', '28060', '2015', '27004', '2805',\n",
              "       '25008', '20013', '28051\\r\\n28051', '280013', '28094',\n",
              "       '28002\\r\\n28002', '2804', '2815', 'Madrid 28004', '28105', '28048'],\n",
              "      dtype=object)"
            ]
          },
          "execution_count": 107,
          "metadata": {},
          "output_type": "execute_result"
        }
      ],
      "source": [
        "pd.unique(airbnb['Zipcode'])"
      ]
    },
    {
      "cell_type": "code",
      "execution_count": null,
      "metadata": {
        "id": "I9HzxXpscyEJ"
      },
      "outputs": [],
      "source": [
        "#Creamos un nuevo csv con el dataframe limpio\n",
        "#airbnb.to_csv('airbnb_clean.csv', index=False)"
      ]
    }
  ],
  "metadata": {
    "colab": {
      "provenance": []
    },
    "kernelspec": {
      "display_name": "base",
      "language": "python",
      "name": "python3"
    },
    "language_info": {
      "codemirror_mode": {
        "name": "ipython",
        "version": 3
      },
      "file_extension": ".py",
      "mimetype": "text/x-python",
      "name": "python",
      "nbconvert_exporter": "python",
      "pygments_lexer": "ipython3",
      "version": "3.9.13"
    },
    "vscode": {
      "interpreter": {
        "hash": "40d3a090f54c6569ab1632332b64b2c03c39dcf918b08424e98f38b5ae0af88f"
      }
    }
  },
  "nbformat": 4,
  "nbformat_minor": 0
}
