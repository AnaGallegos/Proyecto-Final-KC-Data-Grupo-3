{
  "cells": [
    {
      "cell_type": "code",
      "execution_count": 17,
      "metadata": {
        "id": "LjDQtjEkBhnu"
      },
      "outputs": [],
      "source": [
        "#Importamos librerías\n",
        "import numpy as np # data arrays\n",
        "import pandas as pd # data structure and data analysis\n",
        "import matplotlib as plt # data visualization\n",
        "import datetime as dt # date time"
      ]
    },
    {
      "cell_type": "code",
      "execution_count": 18,
      "metadata": {
        "id": "-2wiXkclB-Lj"
      },
      "outputs": [],
      "source": [
        "#Abrimos archivo \n",
        "df_airbnb = pd.read_csv(\"airbnb-listings.csv\", sep=\";\")"
      ]
    },
    {
      "cell_type": "code",
      "execution_count": 19,
      "metadata": {
        "colab": {
          "base_uri": "https://localhost:8080/"
        },
        "id": "9tZelxOwlwVx",
        "outputId": "bcd4ad76-b8ad-481e-f27b-2d01d0b52262"
      },
      "outputs": [
        {
          "name": "stdout",
          "output_type": "stream",
          "text": [
            "Columnas :  89\n",
            "Filas    :  14780\n"
          ]
        }
      ],
      "source": [
        "#Contamos cuántas columnas y filas tiene el dataset\n",
        "print('Columnas : ', len(df_airbnb.columns))\n",
        "print('Filas    : ', len(df_airbnb.index))"
      ]
    },
    {
      "cell_type": "code",
      "execution_count": 20,
      "metadata": {
        "colab": {
          "base_uri": "https://localhost:8080/"
        },
        "id": "NhEXePy6B_c-",
        "outputId": "caacc03d-7ec9-4fba-bdfb-06bc649691ad"
      },
      "outputs": [
        {
          "name": "stdout",
          "output_type": "stream",
          "text": [
            "['ID', 'Listing Url', 'Scrape ID', 'Last Scraped', 'Name', 'Summary', 'Space', 'Description', 'Experiences Offered', 'Neighborhood Overview', 'Notes', 'Transit', 'Access', 'Interaction', 'House Rules', 'Thumbnail Url', 'Medium Url', 'Picture Url', 'XL Picture Url', 'Host ID', 'Host URL', 'Host Name', 'Host Since', 'Host Location', 'Host About', 'Host Response Time', 'Host Response Rate', 'Host Acceptance Rate', 'Host Thumbnail Url', 'Host Picture Url', 'Host Neighbourhood', 'Host Listings Count', 'Host Total Listings Count', 'Host Verifications', 'Street', 'Neighbourhood', 'Neighbourhood Cleansed', 'Neighbourhood Group Cleansed', 'City', 'State', 'Zipcode', 'Market', 'Smart Location', 'Country Code', 'Country', 'Latitude', 'Longitude', 'Property Type', 'Room Type', 'Accommodates', 'Bathrooms', 'Bedrooms', 'Beds', 'Bed Type', 'Amenities', 'Square Feet', 'Price', 'Weekly Price', 'Monthly Price', 'Security Deposit', 'Cleaning Fee', 'Guests Included', 'Extra People', 'Minimum Nights', 'Maximum Nights', 'Calendar Updated', 'Has Availability', 'Availability 30', 'Availability 60', 'Availability 90', 'Availability 365', 'Calendar last Scraped', 'Number of Reviews', 'First Review', 'Last Review', 'Review Scores Rating', 'Review Scores Accuracy', 'Review Scores Cleanliness', 'Review Scores Checkin', 'Review Scores Communication', 'Review Scores Location', 'Review Scores Value', 'License', 'Jurisdiction Names', 'Cancellation Policy', 'Calculated host listings count', 'Reviews per Month', 'Geolocation', 'Features']\n"
          ]
        }
      ],
      "source": [
        "#Imprimimos todas las columnas en formato lista\n",
        "print(df_airbnb.columns.tolist())"
      ]
    },
    {
      "cell_type": "code",
      "execution_count": 21,
      "metadata": {
        "colab": {
          "base_uri": "https://localhost:8080/"
        },
        "id": "jKreC7S3DwnH",
        "outputId": "ca1c3c68-c6dd-4a2b-c7bd-2364c79ca92a"
      },
      "outputs": [
        {
          "data": {
            "text/plain": [
              "ID                                   0\n",
              "Listing Url                          0\n",
              "Scrape ID                            0\n",
              "Last Scraped                         0\n",
              "Name                                 1\n",
              "                                  ... \n",
              "Cancellation Policy                  0\n",
              "Calculated host listings count       4\n",
              "Reviews per Month                 3162\n",
              "Geolocation                          0\n",
              "Features                             1\n",
              "Length: 89, dtype: int64"
            ]
          },
          "execution_count": 21,
          "metadata": {},
          "output_type": "execute_result"
        }
      ],
      "source": [
        "#Sumamos los valores nulos que tienen cada una de las columnas\n",
        "missing_values_count = df_airbnb.isnull().sum()\n",
        "missing_values_count"
      ]
    },
    {
      "cell_type": "code",
      "execution_count": 22,
      "metadata": {
        "colab": {
          "base_uri": "https://localhost:8080/"
        },
        "id": "K4UT3930EwKT",
        "outputId": "ecfc9854-0592-4ba5-8273-f8aaf5310c1a"
      },
      "outputs": [
        {
          "data": {
            "text/plain": [
              "Has Availability        14768\n",
              "Host Acceptance Rate    14741\n",
              "Jurisdiction Names      14553\n",
              "License                 14431\n",
              "Square Feet             14182\n",
              "                        ...  \n",
              "Minimum Nights              0\n",
              "Extra People                0\n",
              "Guests Included             0\n",
              "Room Type                   0\n",
              "ID                          0\n",
              "Length: 89, dtype: int64"
            ]
          },
          "execution_count": 22,
          "metadata": {},
          "output_type": "execute_result"
        }
      ],
      "source": [
        "#Ordenamos de mayor a menor las columnas con más valores nulos\n",
        "missing_values_count.sort_values(ascending=False)"
      ]
    },
    {
      "cell_type": "code",
      "execution_count": 23,
      "metadata": {
        "colab": {
          "base_uri": "https://localhost:8080/"
        },
        "id": "E9CDvQ3YGOba",
        "outputId": "d01ebb5d-f57f-4058-847d-8c9466389a8a"
      },
      "outputs": [
        {
          "data": {
            "text/plain": [
              "ID                                False\n",
              "Listing Url                       False\n",
              "Scrape ID                         False\n",
              "Last Scraped                      False\n",
              "Name                              False\n",
              "                                  ...  \n",
              "Cancellation Policy               False\n",
              "Calculated host listings count    False\n",
              "Reviews per Month                  True\n",
              "Geolocation                       False\n",
              "Features                          False\n",
              "Length: 89, dtype: bool"
            ]
          },
          "execution_count": 23,
          "metadata": {},
          "output_type": "execute_result"
        }
      ],
      "source": [
        "#Devuelve True si la suma de valores nulos es mayor a 1000\n",
        "missing_values_count>1000"
      ]
    },
    {
      "cell_type": "code",
      "execution_count": 24,
      "metadata": {
        "colab": {
          "base_uri": "https://localhost:8080/"
        },
        "id": "DxHoA5mZEvsH",
        "outputId": "b99d19c2-d607-4b9f-ea2c-67143153b69f"
      },
      "outputs": [
        {
          "name": "stdout",
          "output_type": "stream",
          "text": [
            "Has Availability                14768\n",
            "Host Acceptance Rate            14741\n",
            "Jurisdiction Names              14553\n",
            "License                         14431\n",
            "Square Feet                     14182\n",
            "Monthly Price                   11219\n",
            "Weekly Price                    11190\n",
            "Notes                            9136\n",
            "Security Deposit                 8524\n",
            "Interaction                      6552\n",
            "Access                           6462\n",
            "Cleaning Fee                     6093\n",
            "Transit                          5714\n",
            "Neighborhood Overview            5646\n",
            "Host About                       5241\n",
            "Neighbourhood                    5229\n",
            "House Rules                      5161\n",
            "Space                            3892\n",
            "Host Neighbourhood               3876\n",
            "Review Scores Value              3341\n",
            "Review Scores Location           3340\n",
            "Review Scores Checkin            3337\n",
            "Review Scores Accuracy           3326\n",
            "Review Scores Cleanliness        3320\n",
            "Review Scores Communication      3320\n",
            "Review Scores Rating             3304\n",
            "Last Review                      3163\n",
            "Reviews per Month                3162\n",
            "First Review                     3162\n",
            "XL Picture Url                   2820\n",
            "Medium Url                       2820\n",
            "Thumbnail Url                    2820\n",
            "Host Response Time               1899\n",
            "Host Response Rate               1899\n",
            "Neighbourhood Group Cleansed     1020\n",
            "dtype: int64\n"
          ]
        }
      ],
      "source": [
        "#Obtenemos las columnas cuya suma de valores nulos es mayor a 1000\n",
        "nulldata = df_airbnb.isnull().sum()\n",
        "print(nulldata[nulldata > 1000].sort_values(ascending=False))"
      ]
    },
    {
      "cell_type": "code",
      "execution_count": 25,
      "metadata": {
        "colab": {
          "base_uri": "https://localhost:8080/"
        },
        "id": "DoqFWq0qnk6f",
        "outputId": "bb8a9d53-6374-4cfc-bf2b-ea6122e6e7b2"
      },
      "outputs": [
        {
          "name": "stdout",
          "output_type": "stream",
          "text": [
            "['United Kingdom' 'Spain' 'United States' 'Canada' 'Switzerland'\n",
            " 'Hong Kong' 'Cuba' 'Germany' 'Belgium' 'Netherlands' 'Italy' 'Australia'\n",
            " 'Austria' 'France' 'Denmark' 'Ireland' 'Greece' nan]\n",
            "['London' 'Madrid' 'Denver' 'Palma' 'Palma de Mallorca' 'Selva'\n",
            " 'Balearic Islands' 'Sant Joan' 'Montréal' 'Genève' 'Tsim Sha Tsui'\n",
            " 'Los Angeles' 'Cala Pi' 'Sa Pobla' 'Muro' 'Alcúdia' 'Illetes' '马德里'\n",
            " 'La Habana' 'Madrid, Comunidad de Madrid, ES' 'Berlin' 'Schaerbeek'\n",
            " 'Amsterdam' 'Barcelona' 'Austin' 'Antwerpen' 'Chicago' 'Roma'\n",
            " 'Bondi Beach' 'Seattle' 'Woolloomooloo' 'Vienna' 'North Sydney' 'Paris'\n",
            " 'Frederiksberg' 'Dublin' 'Edimburgo' 'Bruxelles' 'Copenhagen' 'Sutton'\n",
            " 'Santa Maria del Camí' 'Pollença' 'Nashville' 'Bunyola'\n",
            " 'Pozuelo de Alarcón' 'Provensals' 'Deià' 'Costitx' 'Campos'\n",
            " 'Mile End / Bow' 'Peguera, Calvià' 'Torrenova' \"Port d'Andratx\"\n",
            " 'Llucmajor' 'Sant Llorenç des Cardassar' 'Puerto ALCUDIA' 'Sóller'\n",
            " 'Valldemossa' 'Pollensa' 'Caimari' 'Inca' '馬德里' 'Montreal' 'Brooklyn'\n",
            " 'Washington' 'Venezia' 'Lido' 'Hospitalet de Llobregat' 'Hong Kong'\n",
            " 'København' 'Ixelles' 'Andratx' 'Binissalem' 'Mancor de la Vall'\n",
            " 'Felanitx' 'Santa Margalida' 'Saint-Josse-ten-Noode'\n",
            " 'Madrid, Vallecas (Fontarrón)' 'Campanet' 'Sol de Mallorca' 'New Orleans'\n",
            " 'Greater London' 'Londres' 'Sa Colònia' 'Son Veri Nou , Llucmajor'\n",
            " 'Delicias' 'Wien' 'St Peters' 'Surry Hills' 'Toronto' 'Queens' 'New York'\n",
            " 'Los Angeles County' 'Beverly Hills' 'Manacor' 'Pozuelo' 'Can Pastilla'\n",
            " 'Alaró' 'Melbourne' 'Venice' 'Bondi' 'Porreres' 'Costa dels Pins'\n",
            " 'Madrid, Comunidad de Madrid, ESPANA' 'las matas  madrid' 'Illes Balears'\n",
            " 'Calvià' 'madrid' 'La Puebla' 'Llubí' 'Templeogue' 'Ballsbridge'\n",
            " 'Topanga' 'Peguera' 'Manchester' 'Delicias-Madrid' 'Onil' 'Cala Agulla'\n",
            " 'Athina' 'Edinburgh' 'Santa Monica' 'San Diego' 'Queenscliff'\n",
            " 'Cala Ferrera' 'Santanyí' 'Valderrodrigo' 'Algaida' nan 'El Toro' 'Petra'\n",
            " 'Búger' 'Pina' 'Chiva' 'Son Servera' 'Sa Coma' 'Northcote' 'Potts Point'\n",
            " 'Lewisham' 'Maioris Decima' 'Puerto Pollensa (Palma de Mallorca)'\n",
            " 'Lloret de Vistalegre' 'Paddington' 'Boston' 'Frederiksberg C' 'Bronx'\n",
            " 'Berowra Waters' 'Marrickville' 'Rome' 'París' 'Playas de Muro'\n",
            " 'Boadilla del Monte' 'Binissalem-Mallorca DO' 'Pina, Mallorca'\n",
            " 'Etterbeek' 'Richmond' 'Sineu' 'Cala Santanyí' 'Windsor' 'Port de Soller'\n",
            " 'South Yarra' 'Rotes Velles' 'Son Moll' 'Brussel' 'Aravaca'\n",
            " 'San Fernando de Henares' 'Cala Murada' 'Betlem' 'Son Vida' 'Malibu'\n",
            " 'Kimmage' 'Clongriffin' 'Ginebra' 'Madid' 'Porto Cristo' 'Santa Ponsa'\n",
            " 'Comunidad de Madrid' 'San Lázaro' 'Málaga' 'La Elipa' 'Can Picafort'\n",
            " 'Manly' 'San Francisco' 'Coogee' 'Oakland' 'Centro, Madrid' 'MADRID'\n",
            " 'Alcudia' 'Forest' 'Sint-Gillis' 'Darlinghurst' 'Cologny' 'Deyá'\n",
            " 'Muro (Mallorca)' 'Sencelles' 'Saint-Gilles' 'Madri'\n",
            " 'Colònia de Sant Jordi' 'Chelsea, London' 'Albert Park' 'Font de Sa Cala'\n",
            " 'Motilla del Palancar' 'Long Beach' 'Mal Pas-Bon Aire' 'Lloseta' 'Ariany'\n",
            " 'Port de Sóller' 'Sa Garriga' 'Urbanització Montferrutx' 'Brunswick'\n",
            " 'Vancouver' 'Bondi Junction' 'Mascot' 'Enmore' 'Rosebery' 'San Fernando'\n",
            " 'Aravaca (Madrid)' 'Cala Ratjada' 'Cala Magrana'\n",
            " 'Cala Anguila-Cala Mendia' 'Biniamar' 'Vilafranca de Bonany'\n",
            " 'West Hollywood' 'Athens' 'Magaluf' 'Chueca, Madrid' 'Malaga'\n",
            " 'Forest Lodge' 'Brent' 'Chueca' 'Footscray' 'Westmount' 'Dorroughby'\n",
            " 'Pasadena' 'Llucalcari' 'Ses Salines' 'Colonia de Sant Pere'\n",
            " 'villa verde bajo' 'Centro' 'North Bondi' 'Portals Nous'\n",
            " 'Port de Pollença' 'Salerno' 'Berlín' 'Newtown' 'Vallgornera' 'Ventas'\n",
            " 'Colonia Sant Pere']\n"
          ]
        }
      ],
      "source": [
        "#A pesar de que el dataset es de Madrid podemos observar como hay otros paises y ciudades \n",
        "print(pd.unique(df_airbnb[\"Country\"]))\n",
        "\n",
        "print(pd.unique(df_airbnb[\"City\"]))"
      ]
    },
    {
      "cell_type": "code",
      "execution_count": 26,
      "metadata": {
        "colab": {
          "base_uri": "https://localhost:8080/"
        },
        "id": "9YlcD8ebnzAf",
        "outputId": "d570a965-9d03-4ded-a310-99861cc8a0f8"
      },
      "outputs": [
        {
          "name": "stdout",
          "output_type": "stream",
          "text": [
            "['Spain']\n",
            "['Madrid']\n"
          ]
        }
      ],
      "source": [
        "#Filtramos el dataset para quedarnos solamente con aquellas filas donde City sea Madrid y Country Spain\n",
        "df_airbnb = df_airbnb[(df_airbnb['City'] == \"Madrid\") & (df_airbnb['Country'] == 'Spain')]\n",
        "\n",
        "print(pd.unique(df_airbnb[\"Country\"]))\n",
        "print(pd.unique(df_airbnb[\"City\"]))\n"
      ]
    },
    {
      "cell_type": "code",
      "execution_count": 95,
      "metadata": {
        "id": "xI-EXsvRoqmZ"
      },
      "outputs": [],
      "source": [
        "#Creamos un nuevo df donde seleccionamos las columnas cuyos valores sean compatibles con lo que queremos estudiar\n",
        "#Quitamos Zipcode por falta de datos y coherencia (datos incompletos, números que no se corresponden con Madrid)\n",
        "#Quitamos State porque no nos aporta más información de la que nos da la variable City\n",
        "#Quitamos Country Code y Smart Location porque no nos aportan más información que la del país (ES) o la ciudad (que ya está en City)\n",
        "df = df_airbnb[['ID','Host ID', 'Host Since', 'Host Name', 'Street', 'Neighbourhood Cleansed', 'Neighbourhood Group Cleansed', 'City', \n",
        "                'Country', 'Latitude', 'Longitude', 'Property Type', 'Room Type', 'Bathrooms', 'Bedrooms', 'Beds', 'Bed Type',\n",
        "                'Price','Number of Reviews', 'Cancellation Policy', 'Geolocation']]\n"
      ]
    },
    {
      "cell_type": "code",
      "execution_count": 96,
      "metadata": {
        "colab": {
          "base_uri": "https://localhost:8080/"
        },
        "id": "rqhtek5a156Y",
        "outputId": "9c13e928-70a2-4eaa-a51f-51db964249c8"
      },
      "outputs": [
        {
          "name": "stdout",
          "output_type": "stream",
          "text": [
            "Columnas :  21\n",
            "Filas    :  13207\n"
          ]
        }
      ],
      "source": [
        "#Contamos nuevamente cuántas columnas y filas tiene el nuevo df\n",
        "print('Columnas : ', len(df.columns))\n",
        "print('Filas    : ', len(df.index))"
      ]
    },
    {
      "cell_type": "code",
      "execution_count": 16,
      "metadata": {},
      "outputs": [
        {
          "data": {
            "text/plain": [
              "array(['Madrid, Spain', 'Madrid , Spain'], dtype=object)"
            ]
          },
          "execution_count": 16,
          "metadata": {},
          "output_type": "execute_result"
        }
      ],
      "source": [
        "df['Smart Location'].unique() # Vemos qué contiene la variable State"
      ]
    },
    {
      "cell_type": "code",
      "execution_count": null,
      "metadata": {
        "colab": {
          "base_uri": "https://localhost:8080/"
        },
        "id": "7elNsQh1tVuU",
        "outputId": "310de25c-a719-4157-f173-e85e26d08814"
      },
      "outputs": [],
      "source": [
        "#Justificación de por qué eliminamos State\n",
        "#Observamos que en State hay muchos nombres diferentes para la Comunidad de Madrid\n",
        "pd.unique(df[\"State\"])"
      ]
    },
    {
      "attachments": {},
      "cell_type": "markdown",
      "metadata": {},
      "source": [
        "## PARAMOS AQUI PARA EL DATAWAREHOUSE"
      ]
    },
    {
      "cell_type": "code",
      "execution_count": null,
      "metadata": {
        "colab": {
          "base_uri": "https://localhost:8080/"
        },
        "id": "9Sstms3cuaZc",
        "outputId": "fffc2ee0-4f13-4d98-9329-744acdad1dbb"
      },
      "outputs": [],
      "source": [
        "# Cambiamos todos los valores de la columna State para que sean todos Comunidad de Madrid\n",
        "\n",
        "# En primer lugar se ha realizado con el siguiente comando, aunque para evitar errores cuando haya \"nan\" utilizaremos el codigo siguiente:\n",
        "\n",
        "# # df['State']='Comunidad de Madrid'\n",
        "\n",
        "nombres_madrid = ['Community of Madrid', 'Comunidad de Madrid', 'Madrid',\n",
        "       'Communauté de Madrid', 'Spain', 'MADRID', 'España',\n",
        "       'Autonome Gemeinschaft Madrid', 'Madrid capital', 'madrid', '28',\n",
        "       'Madrid \\r\\nMadrid', 'Espańa', 'Usera', 'España,Madrid']\n",
        "\n",
        "df['State'].dropna()\n",
        "\n",
        "for nombre in nombres_madrid:\n",
        "    df.loc[df['State'] == nombre, 'State'] = 'Comunidad de Madrid'\n",
        "\n",
        "pd.unique(df[\"State\"])"
      ]
    },
    {
      "cell_type": "code",
      "execution_count": null,
      "metadata": {
        "colab": {
          "base_uri": "https://localhost:8080/"
        },
        "id": "MnMMRb7buzM5",
        "outputId": "934d005c-0b43-4356-8ad9-f66a487e9dd0"
      },
      "outputs": [],
      "source": [
        "pd.unique(df[\"State\"])"
      ]
    },
    {
      "cell_type": "markdown",
      "metadata": {
        "id": "wT21IG8XxSNu"
      },
      "source": [
        "Revisión de columnas"
      ]
    },
    {
      "cell_type": "code",
      "execution_count": 98,
      "metadata": {
        "colab": {
          "base_uri": "https://localhost:8080/"
        },
        "id": "0FexkzI-dE2f",
        "outputId": "32958273-7eb5-4f81-c442-81d0672aaacc"
      },
      "outputs": [
        {
          "data": {
            "text/plain": [
              "Beds                            49\n",
              "Bathrooms                       49\n",
              "Bedrooms                        23\n",
              "Price                            9\n",
              "Host Since                       3\n",
              "Host Name                        3\n",
              "ID                               0\n",
              "Room Type                        0\n",
              "Cancellation Policy              0\n",
              "Number of Reviews                0\n",
              "Bed Type                         0\n",
              "Longitude                        0\n",
              "Property Type                    0\n",
              "Host ID                          0\n",
              "Latitude                         0\n",
              "Country                          0\n",
              "City                             0\n",
              "Neighbourhood Group Cleansed     0\n",
              "Neighbourhood Cleansed           0\n",
              "Street                           0\n",
              "Geolocation                      0\n",
              "dtype: int64"
            ]
          },
          "execution_count": 98,
          "metadata": {},
          "output_type": "execute_result"
        }
      ],
      "source": [
        "#Número de nulos en las columnas seleccionadas\n",
        "missing_values_count_2 = df.isnull().sum().sort_values(ascending=False)\n",
        "missing_values_count_2\n",
        "\n",
        "#Otra forma con el mismo resultado: df.isna().sum().sort_values(ascending=False) "
      ]
    },
    {
      "cell_type": "code",
      "execution_count": 100,
      "metadata": {},
      "outputs": [
        {
          "name": "stderr",
          "output_type": "stream",
          "text": [
            "C:\\Users\\Carla\\AppData\\Local\\Temp\\ipykernel_680\\115567948.py:3: SettingWithCopyWarning: \n",
            "A value is trying to be set on a copy of a slice from a DataFrame.\n",
            "Try using .loc[row_indexer,col_indexer] = value instead\n",
            "\n",
            "See the caveats in the documentation: https://pandas.pydata.org/pandas-docs/stable/user_guide/indexing.html#returning-a-view-versus-a-copy\n",
            "  df['Price'] = df['Price'].fillna(df['Price'].mean())\n"
          ]
        }
      ],
      "source": [
        "#Transformamos los valores null de la columna 'Price' con el valor promedio de dicha columna\n",
        "for i in df['Price']:\n",
        "\tdf['Price'] = df['Price'].fillna(df['Price'].mean())\n"
      ]
    },
    {
      "cell_type": "code",
      "execution_count": 101,
      "metadata": {},
      "outputs": [
        {
          "data": {
            "text/plain": [
              "Beds                            49\n",
              "Bathrooms                       49\n",
              "Bedrooms                        23\n",
              "Host Since                       3\n",
              "Host Name                        3\n",
              "ID                               0\n",
              "Room Type                        0\n",
              "Cancellation Policy              0\n",
              "Number of Reviews                0\n",
              "Price                            0\n",
              "Bed Type                         0\n",
              "Longitude                        0\n",
              "Property Type                    0\n",
              "Host ID                          0\n",
              "Latitude                         0\n",
              "Country                          0\n",
              "City                             0\n",
              "Neighbourhood Group Cleansed     0\n",
              "Neighbourhood Cleansed           0\n",
              "Street                           0\n",
              "Geolocation                      0\n",
              "dtype: int64"
            ]
          },
          "execution_count": 101,
          "metadata": {},
          "output_type": "execute_result"
        }
      ],
      "source": [
        "df.isnull().sum().sort_values(ascending=False)"
      ]
    },
    {
      "cell_type": "code",
      "execution_count": 102,
      "metadata": {
        "id": "1oA0aQ9ObyQA"
      },
      "outputs": [],
      "source": [
        "#Creamos nuevo dataframe con los valores NaN eliminados\n",
        "airbnb = df.dropna()\n"
      ]
    },
    {
      "cell_type": "code",
      "execution_count": 103,
      "metadata": {
        "colab": {
          "base_uri": "https://localhost:8080/"
        },
        "id": "FTMVUY5PbywI",
        "outputId": "9afdfc84-8434-4c8d-fb71-09bdbed5cd4d"
      },
      "outputs": [
        {
          "name": "stdout",
          "output_type": "stream",
          "text": [
            "Columnas :  21\n",
            "Filas    :  13120\n"
          ]
        }
      ],
      "source": [
        "#Calculamos columnas y filas\n",
        "print('Columnas : ', len(airbnb.columns))\n",
        "print('Filas    : ', len(airbnb.index))"
      ]
    },
    {
      "cell_type": "code",
      "execution_count": 104,
      "metadata": {
        "colab": {
          "base_uri": "https://localhost:8080/"
        },
        "id": "3kngEIU4cvBT",
        "outputId": "777b7040-ec50-48ed-ae18-7b423b60f2eb"
      },
      "outputs": [
        {
          "data": {
            "text/plain": [
              "ID                              0\n",
              "Property Type                   0\n",
              "Cancellation Policy             0\n",
              "Number of Reviews               0\n",
              "Price                           0\n",
              "Bed Type                        0\n",
              "Beds                            0\n",
              "Bedrooms                        0\n",
              "Bathrooms                       0\n",
              "Room Type                       0\n",
              "Longitude                       0\n",
              "Host ID                         0\n",
              "Latitude                        0\n",
              "Country                         0\n",
              "City                            0\n",
              "Neighbourhood Group Cleansed    0\n",
              "Neighbourhood Cleansed          0\n",
              "Street                          0\n",
              "Host Name                       0\n",
              "Host Since                      0\n",
              "Geolocation                     0\n",
              "dtype: int64"
            ]
          },
          "execution_count": 104,
          "metadata": {},
          "output_type": "execute_result"
        }
      ],
      "source": [
        "#Verificamos que la suma de nulls en todas las columnas sea 0\n",
        "missing_values = airbnb.isnull().sum().sort_values(ascending=False)\n",
        "missing_values"
      ]
    },
    {
      "cell_type": "code",
      "execution_count": 105,
      "metadata": {},
      "outputs": [
        {
          "data": {
            "text/plain": [
              "3        2014-02-03\n",
              "4        2011-07-12\n",
              "5        2013-06-19\n",
              "6        2012-01-24\n",
              "7        2013-10-31\n",
              "            ...    \n",
              "14755    2015-06-24\n",
              "14756    2016-03-01\n",
              "14757    2012-09-11\n",
              "14758    2012-09-14\n",
              "14759    2013-01-03\n",
              "Name: Host Since, Length: 13120, dtype: object"
            ]
          },
          "execution_count": 105,
          "metadata": {},
          "output_type": "execute_result"
        }
      ],
      "source": [
        "airbnb[\"Host Since\"]"
      ]
    },
    {
      "cell_type": "code",
      "execution_count": 106,
      "metadata": {},
      "outputs": [
        {
          "name": "stderr",
          "output_type": "stream",
          "text": [
            "C:\\Users\\Carla\\AppData\\Local\\Temp\\ipykernel_680\\3518919309.py:2: SettingWithCopyWarning: \n",
            "A value is trying to be set on a copy of a slice from a DataFrame.\n",
            "Try using .loc[row_indexer,col_indexer] = value instead\n",
            "\n",
            "See the caveats in the documentation: https://pandas.pydata.org/pandas-docs/stable/user_guide/indexing.html#returning-a-view-versus-a-copy\n",
            "  airbnb[\"Host Since\"] = pd.to_datetime(airbnb[\"Host Since\"], format=\"%Y/%m/%d\")\n"
          ]
        }
      ],
      "source": [
        "#Convertimos Host Since a dtype datatime64  \n",
        "airbnb[\"Host Since\"] = pd.to_datetime(airbnb[\"Host Since\"], format=\"%Y/%m/%d\")\n",
        "\n",
        "# print the first 5 rows of \"ActivityDate\" to confirm\n",
        "#airbnb[\"Host Since\"].head()"
      ]
    },
    {
      "cell_type": "code",
      "execution_count": 107,
      "metadata": {},
      "outputs": [
        {
          "data": {
            "text/plain": [
              "array(['Palacio', 'Embajadores', 'Cortes', 'Justicia', 'Universidad',\n",
              "       'Sol', 'Imperial', 'Acacias', 'Ventas', 'Pueblo Nuevo', 'Quintana',\n",
              "       'Concepción', 'Canillas', 'Pinar del Rey', 'San Andrés',\n",
              "       'Arapiles', 'Trafalgar', 'Almagro', 'Chopera', 'Legazpi',\n",
              "       'Delicias', 'Palos de Moguer', 'Prosperidad', 'Hispanoamérica',\n",
              "       'Nueva España', 'Castilla', 'Bellas Vistas', 'Cuatro Caminos',\n",
              "       'Vallehermoso', 'Almenara', 'Valdeacederas', 'Berruguete',\n",
              "       'Gaztambide', 'Guindalera', 'Lista', 'Castellana', 'El Viso',\n",
              "       'Recoletos', 'Goya', 'Fuente del Berro', 'Atocha', 'Pacífico',\n",
              "       'Adelfas', 'Estrella', 'Ibiza', 'Jerónimos', 'Rios Rosas',\n",
              "       'Peñagrande', 'Argüelles', 'Puerta del Angel', 'Lucero', 'Aluche',\n",
              "       'Campamento', 'Aguilas', 'Comillas', 'Vista Alegre', 'La Paz',\n",
              "       'Valverde', 'Casa de Campo', 'Numancia', 'Puerta Bonita',\n",
              "       'Buenavista', 'Abrantes', 'Moscardó', 'Entrevías', 'San Diego',\n",
              "       'Palomeras Sureste', 'Fontarrón', 'Vinateros', 'Los Rosales',\n",
              "       'Casco Histórico de Vallecas', 'Casco Histórico de Vicálvaro',\n",
              "       'Simancas', 'Rejas', 'Timón', 'Casco Histórico de Barajas',\n",
              "       'Butarque', 'Los Angeles', 'Salvador', 'Orcasur', 'San Fermín',\n",
              "       'Almendrales', 'Pradolongo', 'Portazgo', 'Palomeras Bajas',\n",
              "       'San Isidro', 'Opañel', 'El Goloso', 'Cármenes',\n",
              "       'San Juan Bautista', 'Costillares', 'Piovera', 'Apostol Santiago',\n",
              "       'Valdefuentes', 'Ciudad Jardín', 'Castillejos', 'Niño Jesús',\n",
              "       'Zofío', 'Pilar', 'Valdemarín', 'Aravaca', 'Ambroz', 'Arcos',\n",
              "       'Alameda de Osuna', 'Colina', 'Palomas', 'Orcasitas',\n",
              "       'Media Legua', 'Valdezarza', 'Mirasierra', 'Ciudad Universitaria',\n",
              "       'San Pascual', 'Hellín', 'Canillejas', 'Marroquina', 'Aeropuerto',\n",
              "       'Pavones', 'Amposta', 'Santa Eugenia', 'Rosas', 'El Plantío',\n",
              "       'Corralejos', 'San Cristobal', 'Cuatro Vientos', 'Fuentelareina'],\n",
              "      dtype=object)"
            ]
          },
          "execution_count": 107,
          "metadata": {},
          "output_type": "execute_result"
        }
      ],
      "source": [
        "#Los vecindarios son una de las variables clave en nuestro proyecto\n",
        "#Vemos los vecindarios que hay en nuestro dataset\n",
        "df['Neighbourhood Cleansed'].unique()"
      ]
    },
    {
      "cell_type": "code",
      "execution_count": 64,
      "metadata": {},
      "outputs": [
        {
          "data": {
            "text/plain": [
              "125"
            ]
          },
          "execution_count": 64,
          "metadata": {},
          "output_type": "execute_result"
        }
      ],
      "source": [
        "#En total son 125 vecindarios\n",
        "len(df['Neighbourhood Cleansed'].unique())"
      ]
    },
    {
      "cell_type": "code",
      "execution_count": 109,
      "metadata": {},
      "outputs": [
        {
          "name": "stderr",
          "output_type": "stream",
          "text": [
            "C:\\Users\\Carla\\AppData\\Local\\Temp\\ipykernel_680\\3117930092.py:2: SettingWithCopyWarning: \n",
            "A value is trying to be set on a copy of a slice from a DataFrame.\n",
            "Try using .loc[row_indexer,col_indexer] = value instead\n",
            "\n",
            "See the caveats in the documentation: https://pandas.pydata.org/pandas-docs/stable/user_guide/indexing.html#returning-a-view-versus-a-copy\n",
            "  df['Neighbourhood Cleansed'] = df['Neighbourhood Cleansed'].str.upper()\n"
          ]
        },
        {
          "data": {
            "text/html": [
              "<div>\n",
              "<style scoped>\n",
              "    .dataframe tbody tr th:only-of-type {\n",
              "        vertical-align: middle;\n",
              "    }\n",
              "\n",
              "    .dataframe tbody tr th {\n",
              "        vertical-align: top;\n",
              "    }\n",
              "\n",
              "    .dataframe thead th {\n",
              "        text-align: right;\n",
              "    }\n",
              "</style>\n",
              "<table border=\"1\" class=\"dataframe\">\n",
              "  <thead>\n",
              "    <tr style=\"text-align: right;\">\n",
              "      <th></th>\n",
              "      <th>ID</th>\n",
              "      <th>Host ID</th>\n",
              "      <th>Host Since</th>\n",
              "      <th>Host Name</th>\n",
              "      <th>Street</th>\n",
              "      <th>Neighbourhood Cleansed</th>\n",
              "      <th>Neighbourhood Group Cleansed</th>\n",
              "      <th>City</th>\n",
              "      <th>Country</th>\n",
              "      <th>Latitude</th>\n",
              "      <th>...</th>\n",
              "      <th>Property Type</th>\n",
              "      <th>Room Type</th>\n",
              "      <th>Bathrooms</th>\n",
              "      <th>Bedrooms</th>\n",
              "      <th>Beds</th>\n",
              "      <th>Bed Type</th>\n",
              "      <th>Price</th>\n",
              "      <th>Number of Reviews</th>\n",
              "      <th>Cancellation Policy</th>\n",
              "      <th>Geolocation</th>\n",
              "    </tr>\n",
              "  </thead>\n",
              "  <tbody>\n",
              "    <tr>\n",
              "      <th>3</th>\n",
              "      <td>3150371</td>\n",
              "      <td>11902716</td>\n",
              "      <td>2014-02-03</td>\n",
              "      <td>Daniel Y Ximena</td>\n",
              "      <td>Palacio, Madrid, Community of Madrid 28005, Spain</td>\n",
              "      <td>PALACIO</td>\n",
              "      <td>Centro</td>\n",
              "      <td>Madrid</td>\n",
              "      <td>Spain</td>\n",
              "      <td>40.410106</td>\n",
              "      <td>...</td>\n",
              "      <td>Apartment</td>\n",
              "      <td>Private room</td>\n",
              "      <td>1.0</td>\n",
              "      <td>1.0</td>\n",
              "      <td>1.0</td>\n",
              "      <td>Real Bed</td>\n",
              "      <td>36.0</td>\n",
              "      <td>80</td>\n",
              "      <td>flexible</td>\n",
              "      <td>40.41010608050749, -3.714754034177323</td>\n",
              "    </tr>\n",
              "    <tr>\n",
              "      <th>4</th>\n",
              "      <td>3378181</td>\n",
              "      <td>809083</td>\n",
              "      <td>2011-07-12</td>\n",
              "      <td>Michael</td>\n",
              "      <td>Palacio, Madrid, Community of Madrid 28013, Spain</td>\n",
              "      <td>PALACIO</td>\n",
              "      <td>Centro</td>\n",
              "      <td>Madrid</td>\n",
              "      <td>Spain</td>\n",
              "      <td>40.416969</td>\n",
              "      <td>...</td>\n",
              "      <td>Apartment</td>\n",
              "      <td>Entire home/apt</td>\n",
              "      <td>1.0</td>\n",
              "      <td>1.0</td>\n",
              "      <td>1.0</td>\n",
              "      <td>Real Bed</td>\n",
              "      <td>85.0</td>\n",
              "      <td>90</td>\n",
              "      <td>strict</td>\n",
              "      <td>40.416968822636726, -3.7094389211089993</td>\n",
              "    </tr>\n",
              "    <tr>\n",
              "      <th>5</th>\n",
              "      <td>2070750</td>\n",
              "      <td>7005367</td>\n",
              "      <td>2013-06-19</td>\n",
              "      <td>Sergio</td>\n",
              "      <td>Madrid, Community of Madrid, Spain</td>\n",
              "      <td>PALACIO</td>\n",
              "      <td>Centro</td>\n",
              "      <td>Madrid</td>\n",
              "      <td>Spain</td>\n",
              "      <td>40.409705</td>\n",
              "      <td>...</td>\n",
              "      <td>Apartment</td>\n",
              "      <td>Private room</td>\n",
              "      <td>1.0</td>\n",
              "      <td>1.0</td>\n",
              "      <td>1.0</td>\n",
              "      <td>Real Bed</td>\n",
              "      <td>20.0</td>\n",
              "      <td>20</td>\n",
              "      <td>flexible</td>\n",
              "      <td>40.40970517560235, -3.7135611928841086</td>\n",
              "    </tr>\n",
              "    <tr>\n",
              "      <th>6</th>\n",
              "      <td>9832499</td>\n",
              "      <td>1647109</td>\n",
              "      <td>2012-01-24</td>\n",
              "      <td>Daniel</td>\n",
              "      <td>Malasaña, Madrid, Comunidad de Madrid, Spain</td>\n",
              "      <td>PALACIO</td>\n",
              "      <td>Centro</td>\n",
              "      <td>Madrid</td>\n",
              "      <td>Spain</td>\n",
              "      <td>40.423193</td>\n",
              "      <td>...</td>\n",
              "      <td>Apartment</td>\n",
              "      <td>Entire home/apt</td>\n",
              "      <td>1.0</td>\n",
              "      <td>1.0</td>\n",
              "      <td>2.0</td>\n",
              "      <td>Real Bed</td>\n",
              "      <td>112.0</td>\n",
              "      <td>55</td>\n",
              "      <td>strict</td>\n",
              "      <td>40.42319271738103, -3.7112486513892</td>\n",
              "    </tr>\n",
              "    <tr>\n",
              "      <th>7</th>\n",
              "      <td>1868170</td>\n",
              "      <td>9738650</td>\n",
              "      <td>2013-10-31</td>\n",
              "      <td>Carlos Chamarro</td>\n",
              "      <td>Palacio, Madrid, Community of Madrid 28005, Spain</td>\n",
              "      <td>PALACIO</td>\n",
              "      <td>Centro</td>\n",
              "      <td>Madrid</td>\n",
              "      <td>Spain</td>\n",
              "      <td>40.416514</td>\n",
              "      <td>...</td>\n",
              "      <td>Apartment</td>\n",
              "      <td>Entire home/apt</td>\n",
              "      <td>3.0</td>\n",
              "      <td>3.0</td>\n",
              "      <td>4.0</td>\n",
              "      <td>Real Bed</td>\n",
              "      <td>190.0</td>\n",
              "      <td>46</td>\n",
              "      <td>moderate</td>\n",
              "      <td>40.416513932601625, -3.7178427529546973</td>\n",
              "    </tr>\n",
              "  </tbody>\n",
              "</table>\n",
              "<p>5 rows × 21 columns</p>\n",
              "</div>"
            ],
            "text/plain": [
              "        ID   Host ID  Host Since        Host Name  \\\n",
              "3  3150371  11902716  2014-02-03  Daniel Y Ximena   \n",
              "4  3378181    809083  2011-07-12          Michael   \n",
              "5  2070750   7005367  2013-06-19           Sergio   \n",
              "6  9832499   1647109  2012-01-24           Daniel   \n",
              "7  1868170   9738650  2013-10-31  Carlos Chamarro   \n",
              "\n",
              "                                              Street Neighbourhood Cleansed  \\\n",
              "3  Palacio, Madrid, Community of Madrid 28005, Spain                PALACIO   \n",
              "4  Palacio, Madrid, Community of Madrid 28013, Spain                PALACIO   \n",
              "5                 Madrid, Community of Madrid, Spain                PALACIO   \n",
              "6       Malasaña, Madrid, Comunidad de Madrid, Spain                PALACIO   \n",
              "7  Palacio, Madrid, Community of Madrid 28005, Spain                PALACIO   \n",
              "\n",
              "  Neighbourhood Group Cleansed    City Country   Latitude  ...  Property Type  \\\n",
              "3                       Centro  Madrid   Spain  40.410106  ...      Apartment   \n",
              "4                       Centro  Madrid   Spain  40.416969  ...      Apartment   \n",
              "5                       Centro  Madrid   Spain  40.409705  ...      Apartment   \n",
              "6                       Centro  Madrid   Spain  40.423193  ...      Apartment   \n",
              "7                       Centro  Madrid   Spain  40.416514  ...      Apartment   \n",
              "\n",
              "         Room Type Bathrooms  Bedrooms  Beds  Bed Type  Price  \\\n",
              "3     Private room       1.0       1.0   1.0  Real Bed   36.0   \n",
              "4  Entire home/apt       1.0       1.0   1.0  Real Bed   85.0   \n",
              "5     Private room       1.0       1.0   1.0  Real Bed   20.0   \n",
              "6  Entire home/apt       1.0       1.0   2.0  Real Bed  112.0   \n",
              "7  Entire home/apt       3.0       3.0   4.0  Real Bed  190.0   \n",
              "\n",
              "   Number of Reviews  Cancellation Policy  \\\n",
              "3                 80             flexible   \n",
              "4                 90               strict   \n",
              "5                 20             flexible   \n",
              "6                 55               strict   \n",
              "7                 46             moderate   \n",
              "\n",
              "                               Geolocation  \n",
              "3    40.41010608050749, -3.714754034177323  \n",
              "4  40.416968822636726, -3.7094389211089993  \n",
              "5   40.40970517560235, -3.7135611928841086  \n",
              "6      40.42319271738103, -3.7112486513892  \n",
              "7  40.416513932601625, -3.7178427529546973  \n",
              "\n",
              "[5 rows x 21 columns]"
            ]
          },
          "execution_count": 109,
          "metadata": {},
          "output_type": "execute_result"
        }
      ],
      "source": [
        "#El nombre de los vecindarios los cambiamos a mayúsculas\n",
        "df['Neighbourhood Cleansed'] = df['Neighbourhood Cleansed'].str.upper()\n",
        "\n",
        "df.head()"
      ]
    },
    {
      "cell_type": "code",
      "execution_count": 118,
      "metadata": {},
      "outputs": [
        {
          "name": "stderr",
          "output_type": "stream",
          "text": [
            "C:\\Users\\Carla\\AppData\\Local\\Temp\\ipykernel_680\\2622121180.py:3: SettingWithCopyWarning: \n",
            "A value is trying to be set on a copy of a slice from a DataFrame.\n",
            "Try using .loc[row_indexer,col_indexer] = value instead\n",
            "\n",
            "See the caveats in the documentation: https://pandas.pydata.org/pandas-docs/stable/user_guide/indexing.html#returning-a-view-versus-a-copy\n",
            "  df['Neighbourhood Cleansed'] = df['Neighbourhood Cleansed'].str.normalize('NFKD').str.encode('ascii', errors='ignore').str.decode('utf-8')\n"
          ]
        }
      ],
      "source": [
        "# Quitamos los acentos de los nombres de los vecindarios\n",
        "\n",
        "df['Neighbourhood Cleansed'] = df['Neighbourhood Cleansed'].str.normalize('NFKD').str.encode('ascii', errors='ignore').str.decode('utf-8')\n",
        "#df['Neighbourhood Cleansed'].unique()"
      ]
    },
    {
      "cell_type": "code",
      "execution_count": 62,
      "metadata": {},
      "outputs": [
        {
          "data": {
            "text/plain": [
              "Embajadores       1835\n",
              "Universidad       1349\n",
              "Palacio           1076\n",
              "Sol                940\n",
              "Justicia           777\n",
              "                  ... \n",
              "El Plantío           3\n",
              "El Goloso            3\n",
              "Cuatro Vientos       3\n",
              "Fuentelareina        3\n",
              "Orcasitas            2\n",
              "Name: Neighbourhood Cleansed, Length: 125, dtype: int64"
            ]
          },
          "execution_count": 62,
          "metadata": {},
          "output_type": "execute_result"
        }
      ],
      "source": [
        "#Contamos el número de alojamientos por vecindario\n",
        "airbnb['Neighbourhood Cleansed'].value_counts()"
      ]
    },
    {
      "cell_type": "code",
      "execution_count": null,
      "metadata": {},
      "outputs": [],
      "source": [
        "# Nos faltaría quitar los espacios\n"
      ]
    },
    {
      "attachments": {},
      "cell_type": "markdown",
      "metadata": {},
      "source": [
        "# SECCIÓN ZIPCODE (LA MANTENEMOS POR SI ACASO)"
      ]
    },
    {
      "cell_type": "code",
      "execution_count": null,
      "metadata": {},
      "outputs": [],
      "source": [
        "#Hay Zipcodes con numeros faltantes, de más o mal escritos\n",
        "zipcodes = pd.unique(airbnb['Zipcode'])\n",
        "for zipcode in zipcodes:\n",
        "    if \"\\\"\" in zipcode or 'Madrid' in zipcode:\n",
        "        zipcode = zipcode[-5:-1]\n",
        "    if len(zipcode) == 4:\n",
        "        list_zipcode = zipcode.split()\n",
        "        list_zipcode.insert(2,'0')\n",
        "        list_zipcode.join()\n",
        "pd.unique(airbnb['Zipcode'])"
      ]
    },
    {
      "cell_type": "code",
      "execution_count": null,
      "metadata": {},
      "outputs": [],
      "source": [
        "airbnb.drop(airbnb[airbnb['Zipcode']=='28'].index, inplace = True)"
      ]
    },
    {
      "cell_type": "code",
      "execution_count": null,
      "metadata": {},
      "outputs": [],
      "source": [
        "pd.unique(airbnb['Zipcode'])"
      ]
    },
    {
      "cell_type": "code",
      "execution_count": null,
      "metadata": {
        "id": "I9HzxXpscyEJ"
      },
      "outputs": [],
      "source": [
        "#Creamos un nuevo csv con el dataframe limpio\n",
        "#airbnb.to_csv('airbnb_clean.csv', index=False)"
      ]
    }
  ],
  "metadata": {
    "colab": {
      "provenance": []
    },
    "kernelspec": {
      "display_name": "base",
      "language": "python",
      "name": "python3"
    },
    "language_info": {
      "codemirror_mode": {
        "name": "ipython",
        "version": 3
      },
      "file_extension": ".py",
      "mimetype": "text/x-python",
      "name": "python",
      "nbconvert_exporter": "python",
      "pygments_lexer": "ipython3",
      "version": "3.9.13 (main, Aug 25 2022, 23:51:50) [MSC v.1916 64 bit (AMD64)]"
    },
    "vscode": {
      "interpreter": {
        "hash": "0482f1309a5406d7922f66a497070598f5d964d05ebd407801c2b1427e823773"
      }
    }
  },
  "nbformat": 4,
  "nbformat_minor": 0
}
